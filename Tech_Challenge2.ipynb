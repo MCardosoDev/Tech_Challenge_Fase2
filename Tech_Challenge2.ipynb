{
 "cells": [
  {
   "cell_type": "code",
   "execution_count": 1,
   "metadata": {},
   "outputs": [],
   "source": [
    "import pandas as pd\n",
    "from IPython.display import Image #type: ignore"
   ]
  },
  {
   "cell_type": "code",
   "execution_count": 2,
   "metadata": {},
   "outputs": [
    {
     "data": {
      "text/html": [
       "<img src=\"Data/Tech_challenge_2.png\" width=\"800\" height=\"500\"/>"
      ],
      "text/plain": [
       "<IPython.core.display.Image object>"
      ]
     },
     "metadata": {},
     "output_type": "display_data"
    }
   ],
   "source": [
    "display(Image(url=\"Data/Tech_challenge_2.png\", width=800, height=500))"
   ]
  },
  {
   "cell_type": "markdown",
   "metadata": {},
   "source": [
    "- Carregar base"
   ]
  },
  {
   "cell_type": "code",
   "execution_count": 3,
   "metadata": {},
   "outputs": [
    {
     "data": {
      "text/html": [
       "<div>\n",
       "<style scoped>\n",
       "    .dataframe tbody tr th:only-of-type {\n",
       "        vertical-align: middle;\n",
       "    }\n",
       "\n",
       "    .dataframe tbody tr th {\n",
       "        vertical-align: top;\n",
       "    }\n",
       "\n",
       "    .dataframe thead th {\n",
       "        text-align: right;\n",
       "    }\n",
       "</style>\n",
       "<table border=\"1\" class=\"dataframe\">\n",
       "  <thead>\n",
       "    <tr style=\"text-align: right;\">\n",
       "      <th></th>\n",
       "      <th>Data</th>\n",
       "      <th>Último</th>\n",
       "      <th>Abertura</th>\n",
       "      <th>Máxima</th>\n",
       "      <th>Mínima</th>\n",
       "      <th>Vol.</th>\n",
       "      <th>Var%</th>\n",
       "    </tr>\n",
       "  </thead>\n",
       "  <tbody>\n",
       "    <tr>\n",
       "      <th>0</th>\n",
       "      <td>09.03.2023</td>\n",
       "      <td>105.071</td>\n",
       "      <td>106.540</td>\n",
       "      <td>106.724</td>\n",
       "      <td>105.053</td>\n",
       "      <td>19,17M</td>\n",
       "      <td>-1,38%</td>\n",
       "    </tr>\n",
       "    <tr>\n",
       "      <th>1</th>\n",
       "      <td>08.03.2023</td>\n",
       "      <td>106.540</td>\n",
       "      <td>104.228</td>\n",
       "      <td>106.721</td>\n",
       "      <td>104.228</td>\n",
       "      <td>15,90M</td>\n",
       "      <td>2,22%</td>\n",
       "    </tr>\n",
       "    <tr>\n",
       "      <th>2</th>\n",
       "      <td>07.03.2023</td>\n",
       "      <td>104.228</td>\n",
       "      <td>104.700</td>\n",
       "      <td>105.179</td>\n",
       "      <td>103.480</td>\n",
       "      <td>12,58M</td>\n",
       "      <td>-0,45%</td>\n",
       "    </tr>\n",
       "    <tr>\n",
       "      <th>3</th>\n",
       "      <td>06.03.2023</td>\n",
       "      <td>104.700</td>\n",
       "      <td>103.865</td>\n",
       "      <td>105.171</td>\n",
       "      <td>103.170</td>\n",
       "      <td>14,28M</td>\n",
       "      <td>0,80%</td>\n",
       "    </tr>\n",
       "    <tr>\n",
       "      <th>4</th>\n",
       "      <td>03.03.2023</td>\n",
       "      <td>103.866</td>\n",
       "      <td>103.326</td>\n",
       "      <td>104.440</td>\n",
       "      <td>103.323</td>\n",
       "      <td>13,10M</td>\n",
       "      <td>0,52%</td>\n",
       "    </tr>\n",
       "  </tbody>\n",
       "</table>\n",
       "</div>"
      ],
      "text/plain": [
       "         Data   Último  Abertura   Máxima   Mínima    Vol.    Var%\n",
       "0  09.03.2023  105.071   106.540  106.724  105.053  19,17M  -1,38%\n",
       "1  08.03.2023  106.540   104.228  106.721  104.228  15,90M   2,22%\n",
       "2  07.03.2023  104.228   104.700  105.179  103.480  12,58M  -0,45%\n",
       "3  06.03.2023  104.700   103.865  105.171  103.170  14,28M   0,80%\n",
       "4  03.03.2023  103.866   103.326  104.440  103.323  13,10M   0,52%"
      ]
     },
     "execution_count": 3,
     "metadata": {},
     "output_type": "execute_result"
    }
   ],
   "source": [
    "df = pd.read_csv('Data/Dados Históricos - Ibovespa.csv')\n",
    "df.head()"
   ]
  },
  {
   "cell_type": "markdown",
   "metadata": {},
   "source": [
    "- Tratar valores"
   ]
  },
  {
   "cell_type": "code",
   "execution_count": 4,
   "metadata": {},
   "outputs": [
    {
     "data": {
      "text/plain": [
       "Data        0\n",
       "Último      0\n",
       "Abertura    0\n",
       "Máxima      0\n",
       "Mínima      0\n",
       "Vol.        1\n",
       "Var%        0\n",
       "dtype: int64"
      ]
     },
     "execution_count": 4,
     "metadata": {},
     "output_type": "execute_result"
    }
   ],
   "source": [
    "df.isnull().sum()"
   ]
  },
  {
   "cell_type": "code",
   "execution_count": 5,
   "metadata": {},
   "outputs": [
    {
     "name": "stdout",
     "output_type": "stream",
     "text": [
      "<class 'pandas.core.frame.DataFrame'>\n",
      "Index: 4999 entries, 0 to 4999\n",
      "Data columns (total 7 columns):\n",
      " #   Column    Non-Null Count  Dtype  \n",
      "---  ------    --------------  -----  \n",
      " 0   Data      4999 non-null   object \n",
      " 1   Último    4999 non-null   float64\n",
      " 2   Abertura  4999 non-null   float64\n",
      " 3   Máxima    4999 non-null   float64\n",
      " 4   Mínima    4999 non-null   float64\n",
      " 5   Vol.      4999 non-null   object \n",
      " 6   Var%      4999 non-null   object \n",
      "dtypes: float64(4), object(3)\n",
      "memory usage: 312.4+ KB\n"
     ]
    }
   ],
   "source": [
    "df.dropna(inplace=True)\n",
    "df.info()"
   ]
  },
  {
   "cell_type": "code",
   "execution_count": 6,
   "metadata": {},
   "outputs": [
    {
     "data": {
      "text/html": [
       "<div>\n",
       "<style scoped>\n",
       "    .dataframe tbody tr th:only-of-type {\n",
       "        vertical-align: middle;\n",
       "    }\n",
       "\n",
       "    .dataframe tbody tr th {\n",
       "        vertical-align: top;\n",
       "    }\n",
       "\n",
       "    .dataframe thead th {\n",
       "        text-align: right;\n",
       "    }\n",
       "</style>\n",
       "<table border=\"1\" class=\"dataframe\">\n",
       "  <thead>\n",
       "    <tr style=\"text-align: right;\">\n",
       "      <th></th>\n",
       "      <th>Data</th>\n",
       "      <th>Último</th>\n",
       "      <th>Abertura</th>\n",
       "      <th>Máxima</th>\n",
       "      <th>Mínima</th>\n",
       "      <th>Vol.</th>\n",
       "      <th>Var%</th>\n",
       "    </tr>\n",
       "  </thead>\n",
       "  <tbody>\n",
       "    <tr>\n",
       "      <th>0</th>\n",
       "      <td>09.03.2023</td>\n",
       "      <td>105.071</td>\n",
       "      <td>106.540</td>\n",
       "      <td>106.724</td>\n",
       "      <td>105.053</td>\n",
       "      <td>19170000</td>\n",
       "      <td>-1.38</td>\n",
       "    </tr>\n",
       "    <tr>\n",
       "      <th>1</th>\n",
       "      <td>08.03.2023</td>\n",
       "      <td>106.540</td>\n",
       "      <td>104.228</td>\n",
       "      <td>106.721</td>\n",
       "      <td>104.228</td>\n",
       "      <td>15900000</td>\n",
       "      <td>2.22</td>\n",
       "    </tr>\n",
       "    <tr>\n",
       "      <th>2</th>\n",
       "      <td>07.03.2023</td>\n",
       "      <td>104.228</td>\n",
       "      <td>104.700</td>\n",
       "      <td>105.179</td>\n",
       "      <td>103.480</td>\n",
       "      <td>12580000</td>\n",
       "      <td>-0.45</td>\n",
       "    </tr>\n",
       "    <tr>\n",
       "      <th>3</th>\n",
       "      <td>06.03.2023</td>\n",
       "      <td>104.700</td>\n",
       "      <td>103.865</td>\n",
       "      <td>105.171</td>\n",
       "      <td>103.170</td>\n",
       "      <td>14280000</td>\n",
       "      <td>0.80</td>\n",
       "    </tr>\n",
       "    <tr>\n",
       "      <th>4</th>\n",
       "      <td>03.03.2023</td>\n",
       "      <td>103.866</td>\n",
       "      <td>103.326</td>\n",
       "      <td>104.440</td>\n",
       "      <td>103.323</td>\n",
       "      <td>13100000</td>\n",
       "      <td>0.52</td>\n",
       "    </tr>\n",
       "  </tbody>\n",
       "</table>\n",
       "</div>"
      ],
      "text/plain": [
       "         Data   Último  Abertura   Máxima   Mínima      Vol.  Var%\n",
       "0  09.03.2023  105.071   106.540  106.724  105.053  19170000 -1.38\n",
       "1  08.03.2023  106.540   104.228  106.721  104.228  15900000  2.22\n",
       "2  07.03.2023  104.228   104.700  105.179  103.480  12580000 -0.45\n",
       "3  06.03.2023  104.700   103.865  105.171  103.170  14280000  0.80\n",
       "4  03.03.2023  103.866   103.326  104.440  103.323  13100000  0.52"
      ]
     },
     "execution_count": 6,
     "metadata": {},
     "output_type": "execute_result"
    }
   ],
   "source": [
    "def convert_volume(volume_str):\n",
    "    volume_str = volume_str.replace(',', '.')\n",
    "    if 'M' in volume_str:\n",
    "        return int(float(volume_str.replace('M', '')) * 1000000)\n",
    "    elif 'K' in volume_str:\n",
    "        return int(float(volume_str.replace('K', '')) * 1000)\n",
    "    else:\n",
    "        return int(volume_str)\n",
    "\n",
    "df['Vol.'] = df['Vol.'].apply(convert_volume)\n",
    "df['Var%'] = df['Var%'].str.replace('%', '').str.replace(',', '.').astype(float)\n",
    "df.head()"
   ]
  },
  {
   "cell_type": "code",
   "execution_count": 7,
   "metadata": {},
   "outputs": [
    {
     "name": "stdout",
     "output_type": "stream",
     "text": [
      "<class 'pandas.core.frame.DataFrame'>\n",
      "Index: 4999 entries, 0 to 4999\n",
      "Data columns (total 7 columns):\n",
      " #   Column    Non-Null Count  Dtype  \n",
      "---  ------    --------------  -----  \n",
      " 0   Data      4999 non-null   object \n",
      " 1   Último    4999 non-null   float64\n",
      " 2   Abertura  4999 non-null   float64\n",
      " 3   Máxima    4999 non-null   float64\n",
      " 4   Mínima    4999 non-null   float64\n",
      " 5   Vol.      4999 non-null   int64  \n",
      " 6   Var%      4999 non-null   float64\n",
      "dtypes: float64(5), int64(1), object(1)\n",
      "memory usage: 312.4+ KB\n"
     ]
    }
   ],
   "source": [
    "df.info()"
   ]
  },
  {
   "cell_type": "markdown",
   "metadata": {},
   "source": [
    "- Ajustar campo **Data** e **index**"
   ]
  },
  {
   "cell_type": "code",
   "execution_count": 8,
   "metadata": {},
   "outputs": [],
   "source": [
    "df.index = pd.to_datetime(df.Data, format='%d.%m.%Y') #type: ignore\n",
    "df.drop('Data', inplace=True, axis=1)"
   ]
  },
  {
   "cell_type": "code",
   "execution_count": 9,
   "metadata": {},
   "outputs": [
    {
     "name": "stdout",
     "output_type": "stream",
     "text": [
      "<class 'pandas.core.frame.DataFrame'>\n",
      "DatetimeIndex: 4999 entries, 2023-03-09 to 2003-01-02\n",
      "Data columns (total 6 columns):\n",
      " #   Column    Non-Null Count  Dtype  \n",
      "---  ------    --------------  -----  \n",
      " 0   Último    4999 non-null   float64\n",
      " 1   Abertura  4999 non-null   float64\n",
      " 2   Máxima    4999 non-null   float64\n",
      " 3   Mínima    4999 non-null   float64\n",
      " 4   Vol.      4999 non-null   int64  \n",
      " 5   Var%      4999 non-null   float64\n",
      "dtypes: float64(5), int64(1)\n",
      "memory usage: 273.4 KB\n"
     ]
    }
   ],
   "source": [
    "df.info()"
   ]
  },
  {
   "cell_type": "markdown",
   "metadata": {},
   "source": [
    "- análise"
   ]
  },
  {
   "cell_type": "code",
   "execution_count": 10,
   "metadata": {},
   "outputs": [
    {
     "data": {
      "text/html": [
       "<div>\n",
       "<style scoped>\n",
       "    .dataframe tbody tr th:only-of-type {\n",
       "        vertical-align: middle;\n",
       "    }\n",
       "\n",
       "    .dataframe tbody tr th {\n",
       "        vertical-align: top;\n",
       "    }\n",
       "\n",
       "    .dataframe thead th {\n",
       "        text-align: right;\n",
       "    }\n",
       "</style>\n",
       "<table border=\"1\" class=\"dataframe\">\n",
       "  <thead>\n",
       "    <tr style=\"text-align: right;\">\n",
       "      <th></th>\n",
       "      <th>Último</th>\n",
       "      <th>Abertura</th>\n",
       "      <th>Máxima</th>\n",
       "      <th>Mínima</th>\n",
       "      <th>Vol.</th>\n",
       "      <th>Var%</th>\n",
       "    </tr>\n",
       "    <tr>\n",
       "      <th>Data</th>\n",
       "      <th></th>\n",
       "      <th></th>\n",
       "      <th></th>\n",
       "      <th></th>\n",
       "      <th></th>\n",
       "      <th></th>\n",
       "    </tr>\n",
       "  </thead>\n",
       "  <tbody>\n",
       "    <tr>\n",
       "      <th>2023-03-09</th>\n",
       "      <td>105.071</td>\n",
       "      <td>106.540</td>\n",
       "      <td>106.724</td>\n",
       "      <td>105.053</td>\n",
       "      <td>19170000</td>\n",
       "      <td>-1.38</td>\n",
       "    </tr>\n",
       "    <tr>\n",
       "      <th>2023-03-08</th>\n",
       "      <td>106.540</td>\n",
       "      <td>104.228</td>\n",
       "      <td>106.721</td>\n",
       "      <td>104.228</td>\n",
       "      <td>15900000</td>\n",
       "      <td>2.22</td>\n",
       "    </tr>\n",
       "    <tr>\n",
       "      <th>2023-03-07</th>\n",
       "      <td>104.228</td>\n",
       "      <td>104.700</td>\n",
       "      <td>105.179</td>\n",
       "      <td>103.480</td>\n",
       "      <td>12580000</td>\n",
       "      <td>-0.45</td>\n",
       "    </tr>\n",
       "    <tr>\n",
       "      <th>2023-03-06</th>\n",
       "      <td>104.700</td>\n",
       "      <td>103.865</td>\n",
       "      <td>105.171</td>\n",
       "      <td>103.170</td>\n",
       "      <td>14280000</td>\n",
       "      <td>0.80</td>\n",
       "    </tr>\n",
       "    <tr>\n",
       "      <th>2023-03-03</th>\n",
       "      <td>103.866</td>\n",
       "      <td>103.326</td>\n",
       "      <td>104.440</td>\n",
       "      <td>103.323</td>\n",
       "      <td>13100000</td>\n",
       "      <td>0.52</td>\n",
       "    </tr>\n",
       "  </tbody>\n",
       "</table>\n",
       "</div>"
      ],
      "text/plain": [
       "             Último  Abertura   Máxima   Mínima      Vol.  Var%\n",
       "Data                                                           \n",
       "2023-03-09  105.071   106.540  106.724  105.053  19170000 -1.38\n",
       "2023-03-08  106.540   104.228  106.721  104.228  15900000  2.22\n",
       "2023-03-07  104.228   104.700  105.179  103.480  12580000 -0.45\n",
       "2023-03-06  104.700   103.865  105.171  103.170  14280000  0.80\n",
       "2023-03-03  103.866   103.326  104.440  103.323  13100000  0.52"
      ]
     },
     "execution_count": 10,
     "metadata": {},
     "output_type": "execute_result"
    }
   ],
   "source": [
    "df.head()"
   ]
  },
  {
   "cell_type": "code",
   "execution_count": null,
   "metadata": {},
   "outputs": [],
   "source": []
  }
 ],
 "metadata": {
  "kernelspec": {
   "display_name": ".venv3_11",
   "language": "python",
   "name": "python3"
  },
  "language_info": {
   "codemirror_mode": {
    "name": "ipython",
    "version": 3
   },
   "file_extension": ".py",
   "mimetype": "text/x-python",
   "name": "python",
   "nbconvert_exporter": "python",
   "pygments_lexer": "ipython3",
   "version": "3.10.11"
  },
  "orig_nbformat": 4
 },
 "nbformat": 4,
 "nbformat_minor": 2
}
